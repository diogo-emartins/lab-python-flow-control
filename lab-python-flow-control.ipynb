{
 "cells": [
  {
   "cell_type": "markdown",
   "id": "d3bfc191-8885-42ee-b0a0-bbab867c6f9f",
   "metadata": {
    "tags": []
   },
   "source": [
    "# Lab | Flow Control"
   ]
  },
  {
   "cell_type": "markdown",
   "id": "3851fcd1-cf98-4653-9c89-e003b7ec9400",
   "metadata": {},
   "source": [
    "## Exercise: Managing Customer Orders Optimized\n",
    "\n",
    "In the last lab, you were starting an online store that sells various products. To ensure smooth operations, you developed a program that manages customer orders and inventory.\n",
    "\n",
    "You did so without using flow control. Let's go a step further and improve this code.\n",
    "\n",
    "Follow the steps below to complete the exercise:\n",
    "\n",
    "1. Look at your code from the lab data structures, and improve repeated code with loops.\n",
    "\n",
    "2. Instead of asking the user to input the name of three products that a customer wants to order, do the following:\n",
    "    \n",
    "    a. Prompt the user to enter the name of a product that a customer wants to order.\n",
    "    \n",
    "    b. Add the product name to the \"customer_orders\" set.\n",
    "    \n",
    "    c. Ask the user if they want to add another product (yes/no).\n",
    "    \n",
    "    d. Continue the loop until the user does not want to add another product.\n",
    "\n",
    "3. Instead of updating the inventory by subtracting 1 from the quantity of each product, only do it for  the products that were ordered (those in \"customer_orders\")."
   ]
  },
  {
   "cell_type": "code",
   "execution_count": 1,
   "id": "738674cf",
   "metadata": {},
   "outputs": [],
   "source": [
    "products = [\"t-shirt\", \"mug\", \"hat\", \"book\", \"keychain\"]"
   ]
  },
  {
   "cell_type": "code",
   "execution_count": 2,
   "id": "a6206839",
   "metadata": {},
   "outputs": [],
   "source": [
    "inventory = {}"
   ]
  },
  {
   "cell_type": "code",
   "execution_count": 3,
   "id": "738fad73",
   "metadata": {},
   "outputs": [
    {
     "name": "stdout",
     "output_type": "stream",
     "text": [
      "{'t-shirt': 23, 'mug': 8, 'hat': 3, 'book': 11, 'keychain': 1}\n"
     ]
    }
   ],
   "source": [
    "for product in products:\n",
    "    quantity = int(input(f\"Enter the quantity of {product}: \"))\n",
    "    inventory[product] = quantity\n",
    "\n",
    "print(inventory)"
   ]
  },
  {
   "cell_type": "code",
   "execution_count": 4,
   "id": "d8e5f987",
   "metadata": {},
   "outputs": [],
   "source": [
    "customer_orders = set()"
   ]
  },
  {
   "cell_type": "code",
   "execution_count": 5,
   "id": "5f8149b8",
   "metadata": {},
   "outputs": [],
   "source": [
    "while True: #This loop allows the user to keep entering products for the customer's order until they choose not to add any more products.\n",
    "    order = input(\"Enter the name of a product to order: \") #Here, the program prompts the user to enter the name of a product they want to order. The input value is stored in the order variable.\n",
    "    customer_orders.add(order) #This line adds the value of the order variable (the product name) to the customer_orders set. The set collects the unique product names that the user wants to order.\n",
    "    choice = input(\"Do you want to add another product? (yes/no): \") #The program asks the user if they want to add another product to the customer's order. The response is stored in the choice variable.\n",
    "    if choice.lower() != \"yes\": #This conditional statement checks if the user's response, after converting it to lowercase, is not equal to \"yes\". If the response is not \"yes\", meaning the user does not want to add another product, the code inside the if block is executed.\n",
    "        break #The break statement is used to exit out of the loop. When this line is reached, the program breaks out of the while True loop, ending the loop execution.\n",
    "\n",
    "#So, the code loops through steps 1-4 repeatedly until the user chooses not to add another product by entering \"no\" or any response other than \"yes\". At that point, the program exits the loop using the break statement."
   ]
  },
  {
   "cell_type": "code",
   "execution_count": 6,
   "id": "fb821e7c",
   "metadata": {},
   "outputs": [
    {
     "name": "stdout",
     "output_type": "stream",
     "text": [
      "Products in Customer Orders:\n",
      "mug\n",
      "keychain\n"
     ]
    }
   ],
   "source": [
    "print(\"Products in Customer Orders:\")\n",
    "for order in customer_orders:\n",
    "    print(order)"
   ]
  },
  {
   "cell_type": "code",
   "execution_count": 7,
   "id": "2dbeeb58",
   "metadata": {},
   "outputs": [],
   "source": [
    "total_products_ordered = len(customer_orders)\n",
    "percentage_ordered = ((len(customer_orders))/sum(inventory.values())) * 100\n",
    "order_status = (total_products_ordered, percentage_ordered)"
   ]
  },
  {
   "cell_type": "code",
   "execution_count": 8,
   "id": "92fced7b",
   "metadata": {},
   "outputs": [
    {
     "name": "stdout",
     "output_type": "stream",
     "text": [
      "Order Statistics:\n",
      "Total Products Ordered: 2\n",
      "Percentage of Products Ordered: 4.3478260869565215 %\n"
     ]
    }
   ],
   "source": [
    "print(\"Order Statistics:\")\n",
    "print(\"Total Products Ordered:\", order_status[0])\n",
    "print(\"Percentage of Products Ordered:\", order_status[1], \"%\")"
   ]
  },
  {
   "cell_type": "code",
   "execution_count": 9,
   "id": "8fcb9ede",
   "metadata": {},
   "outputs": [],
   "source": [
    "for order in customer_orders:\n",
    "    if order in inventory:\n",
    "        inventory[order] -= 1"
   ]
  },
  {
   "cell_type": "code",
   "execution_count": 10,
   "id": "4824a8c6",
   "metadata": {},
   "outputs": [
    {
     "name": "stdout",
     "output_type": "stream",
     "text": [
      "Updated Inventory:\n",
      "t-shirt : 23\n",
      "mug : 7\n",
      "hat : 3\n",
      "book : 11\n",
      "keychain : 0\n"
     ]
    }
   ],
   "source": [
    "print(\"Updated Inventory:\")\n",
    "for product, quantity in inventory.items():\n",
    "    print(product, \":\", quantity)"
   ]
  }
 ],
 "metadata": {
  "kernelspec": {
   "display_name": "Python 3 (ipykernel)",
   "language": "python",
   "name": "python3"
  },
  "language_info": {
   "codemirror_mode": {
    "name": "ipython",
    "version": 3
   },
   "file_extension": ".py",
   "mimetype": "text/x-python",
   "name": "python",
   "nbconvert_exporter": "python",
   "pygments_lexer": "ipython3",
   "version": "3.11.4"
  }
 },
 "nbformat": 4,
 "nbformat_minor": 5
}
